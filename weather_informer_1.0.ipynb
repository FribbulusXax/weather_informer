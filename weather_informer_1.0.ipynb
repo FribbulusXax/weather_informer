{
 "cells": [
  {
   "cell_type": "markdown",
   "metadata": {},
   "source": [
    "Скрипт запрашивает у пользователя название города и выводит текущую погоду (градусы и осадки) для этой точки.\n",
    "Данный подгружаются из сервиса https://openweathermap.org/ через API."
   ]
  },
  {
   "cell_type": "code",
   "execution_count": 1,
   "metadata": {},
   "outputs": [],
   "source": [
    "import requests\n",
    "api_key = 'a82d5a7bc3d46e048ad6367f0dbe3ada'\n",
    "api_url = 'https://api.openweathermap.org/data/2.5/weather'\n",
    "template = 'В городе {} сейчас {}\\xb0 и {}. Ощущается как {}\\xb0'"
   ]
  },
  {
   "cell_type": "code",
   "execution_count": 4,
   "metadata": {},
   "outputs": [
    {
     "name": "stdout",
     "output_type": "stream",
     "text": [
      "Город?Раменское\n"
     ]
    }
   ],
   "source": [
    "city = input('Город?')\n",
    "params={\n",
    "    'q' : city,\n",
    "    'appid' : api_key,\n",
    "    'units' : 'metric',\n",
    "    'lang' : 'ru'\n",
    "}"
   ]
  },
  {
   "cell_type": "code",
   "execution_count": 5,
   "metadata": {},
   "outputs": [
    {
     "name": "stdout",
     "output_type": "stream",
     "text": [
      "В городе Раменское сейчас 5.32° и ясно. Ощущается как 1.05°\n"
     ]
    }
   ],
   "source": [
    "res = requests.get(api_url, params = params)\n",
    "if res.status_code == 200:\n",
    "    answer = res.json()\n",
    "    print(template.format (city, answer['main']['temp'], answer['weather'][0]['description'], answer['main']['feels_like']))\n",
    "else:\n",
    "    print('Ошибка! Возможно, вы ввели несуществующий город. Попробуйте ввести \\'Ульяновск\\', например. Ответ сервера - ', res.status_code)"
   ]
  },
  {
   "cell_type": "code",
   "execution_count": null,
   "metadata": {},
   "outputs": [],
   "source": []
  }
 ],
 "metadata": {
  "kernelspec": {
   "display_name": "Python 3",
   "language": "python",
   "name": "python3"
  },
  "language_info": {
   "codemirror_mode": {
    "name": "ipython",
    "version": 3
   },
   "file_extension": ".py",
   "mimetype": "text/x-python",
   "name": "python",
   "nbconvert_exporter": "python",
   "pygments_lexer": "ipython3",
   "version": "3.7.3"
  }
 },
 "nbformat": 4,
 "nbformat_minor": 2
}
