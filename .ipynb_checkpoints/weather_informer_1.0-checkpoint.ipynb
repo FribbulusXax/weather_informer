{
 "cells": [
  {
   "cell_type": "code",
   "execution_count": 13,
   "metadata": {},
   "outputs": [],
   "source": [
    "import requests\n",
    "api_key = 'put_here_your_api_key' #api_key_from_openweathermap.org\n",
    "api_url = 'https://api.openweathermap.org/data/2.5/weather'\n",
    "template = 'In {} now {}\\xb0 and {}. Feels like {}\\xb0'"
   ]
  },
  {
   "cell_type": "code",
   "execution_count": null,
   "metadata": {},
   "outputs": [],
   "source": [
    "city = input('City?')\n",
    "params={\n",
    "    'q' : city,\n",
    "    'appid' : api_key,\n",
    "    'units' : 'metric',\n",
    "    'lang' : 'en'\n",
    "}"
   ]
  },
  {
   "cell_type": "code",
   "execution_count": 15,
   "metadata": {},
   "outputs": [
    {
     "name": "stdout",
     "output_type": "stream",
     "text": [
      "In Moscow now 2.34° and broken clouds. Feels like -3.25°\n"
     ]
    }
   ],
   "source": [
    "res = requests.get(api_url, params = params)\n",
    "if res.status_code == 200:\n",
    "    answer = res.json()\n",
    "    print(template.format (city, answer['main']['temp'], answer['weather'][0]['description'], answer['main']['feels_like']))\n",
    "else:\n",
    "    print('Warning! You may have entered a city that does not exist. Try typing \\'Moscow\\', for example. Server response - ', res.status_code)"
   ]
  }
 ],
 "metadata": {
  "kernelspec": {
   "display_name": "Python 3",
   "language": "python",
   "name": "python3"
  },
  "language_info": {
   "codemirror_mode": {
    "name": "ipython",
    "version": 3
   },
   "file_extension": ".py",
   "mimetype": "text/x-python",
   "name": "python",
   "nbconvert_exporter": "python",
   "pygments_lexer": "ipython3",
   "version": "3.7.3"
  }
 },
 "nbformat": 4,
 "nbformat_minor": 2
}
